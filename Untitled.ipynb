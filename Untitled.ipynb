{
 "cells": [
  {
   "cell_type": "code",
   "execution_count": 3,
   "id": "f65782f5-4862-47cf-b6e3-d5d24b53159e",
   "metadata": {},
   "outputs": [],
   "source": [
    "from animateplot import AnimatePlot as ap\n",
    "import matplotlib.pyplot as plt\n",
    "import numpy as np"
   ]
  },
  {
   "cell_type": "code",
   "execution_count": 2,
   "id": "0924326e-0948-40da-806e-76e6a40a91d7",
   "metadata": {},
   "outputs": [
    {
     "name": "stdout",
     "output_type": "stream",
     "text": [
      "loading 0...\n",
      "loading 1...\n",
      "loading 2...\n",
      "loading 3...\n",
      "loading 4...\n",
      "loading 5...\n",
      "loading 6...\n",
      "loading 7...\n",
      "loading 8...\n",
      "loading 9...\n",
      "loading 10...\n",
      "loading 11...\n",
      "loading 12...\n",
      "loading 13...\n",
      "loading 14...\n",
      "loading 15...\n",
      "loading 16...\n",
      "loading 17...\n",
      "loading 18...\n",
      "loading 19...\n",
      "loading 20...\n",
      "loading 21...\n",
      "loading 22...\n",
      "loading 23...\n",
      "loading 24...\n",
      "loading 25...\n",
      "loading 26...\n",
      "loading 27...\n",
      "loading 28...\n",
      "loading 29...\n",
      "loading 30...\n",
      "loading 31...\n",
      "loading 32...\n",
      "loading 33...\n",
      "loading 34...\n",
      "loading 35...\n",
      "loading 36...\n",
      "loading 37...\n",
      "loading 38...\n",
      "loading 39...\n",
      "loading 40...\n",
      "loading 41...\n",
      "loading 42...\n",
      "loading 43...\n",
      "loading 44...\n",
      "loading 45...\n",
      "loading 46...\n",
      "loading 47...\n",
      "loading 48...\n",
      "loading 49...\n",
      "loading 50...\n",
      "loading 51...\n",
      "loading 52...\n",
      "loading 53...\n",
      "loading 54...\n",
      "loading 55...\n",
      "loading 56...\n",
      "loading 57...\n",
      "loading 58...\n",
      "loading 59...\n",
      "loading 60...\n",
      "loading 61...\n",
      "loading 62...\n",
      "loading 63...\n",
      "loading 64...\n",
      "loading 65...\n",
      "loading 66...\n",
      "loading 67...\n",
      "loading 68...\n",
      "loading 69...\n",
      "loading 70...\n",
      "loading 71...\n",
      "loading 72...\n",
      "loading 73...\n",
      "loading 74...\n",
      "loading 75...\n",
      "loading 76...\n",
      "loading 77...\n",
      "loading 78...\n",
      "loading 79...\n",
      "loading 80...\n",
      "loading 81...\n",
      "loading 82...\n",
      "loading 83...\n",
      "loading 84...\n",
      "loading 85...\n",
      "loading 86...\n",
      "loading 87...\n",
      "loading 88...\n",
      "loading 89...\n",
      "loading 90...\n",
      "loading 91...\n",
      "loading 92...\n",
      "loading 93...\n",
      "loading 94...\n",
      "loading 95...\n",
      "loading 96...\n",
      "loading 97...\n",
      "loading 98...\n",
      "loading 99...\n"
     ]
    },
    {
     "data": {
      "text/plain": [
       "<Figure size 640x480 with 0 Axes>"
      ]
     },
     "metadata": {},
     "output_type": "display_data"
    }
   ],
   "source": [
    "import numpy as np\n",
    "import matplotlib.pyplot as plt\n",
    "\n",
    "# Parâmetros da simulação\n",
    "L = 10.0           # Extensão do intervalo [-L, L]\n",
    "N = 1024           # Número de pontos no espaço\n",
    "dx = 2 * L / N     # Passo espacial\n",
    "dt = 0.01          # Passo temporal\n",
    "t_max = 1.0        # Tempo total de simulação\n",
    "sigma = 1.0        # Largura do pacote de onda gaussiano\n",
    "k0 = 5.0           # Número de onda inicial (momento central)\n",
    "\n",
    "# Vetores de posição e número de onda\n",
    "x = np.linspace(-L, L, N)\n",
    "k = 2 * np.pi * np.fft.fftfreq(N, d=dx)\n",
    "\n",
    "# Pacote de onda inicial\n",
    "x0 = -L / 2\n",
    "psi_x = np.exp(-(x - x0)**2 / (2 * sigma**2)) * np.exp(1j * k0 * x)\n",
    "psi_k = np.fft.fft(psi_x)\n",
    "\n",
    "# Operador de evolução temporal no espaço de frequência\n",
    "U_k = np.exp(-1j * 0.5 * k**2 * dt)\n",
    "\n",
    "# Evolução temporal\n",
    "t = 0\n",
    "imgs_list = []\n",
    "i = 0\n",
    "while t < t_max:\n",
    "    psi_k = U_k * psi_k  # Aplica o operador de evolução\n",
    "    psi_x = np.fft.ifft(psi_k)  # Transforma de volta para o espaço real\n",
    "    t += dt\n",
    "\n",
    "    # Visualização (opcional)\n",
    "    plt.plot(x, np.abs(psi_x)**2, label=f't = {t:.2f}')\n",
    "    plt.xlabel(\"x\")\n",
    "    plt.ylabel(\"|ψ(x)|^2\")\n",
    "    plt.ylim(0, 1)\n",
    "    name_fig = f\"plot_{i}.png\"\n",
    "   # plt.savefig(name_fig)\n",
    "    imgs_list.append(name_fig)\n",
    "    print(f\"loading {i}...\")\n",
    "    i+=1\n",
    "    #plt.pause(0.01)  # Atualiza a figura\n",
    "    plt.cla()\n",
    "    plt.clf()    \n",
    "\n"
   ]
  },
  {
   "cell_type": "code",
   "execution_count": 3,
   "id": "f1c94081-8114-45e7-89cb-7d66e9023d23",
   "metadata": {},
   "outputs": [
    {
     "name": "stdout",
     "output_type": "stream",
     "text": [
      "Moviepy - Building video plot.mp4.\n",
      "Moviepy - Writing video plot.mp4\n",
      "\n"
     ]
    },
    {
     "name": "stderr",
     "output_type": "stream",
     "text": [
      "                                                                                                                                                                      \r"
     ]
    },
    {
     "name": "stdout",
     "output_type": "stream",
     "text": [
      "Moviepy - Done !\n",
      "Moviepy - video ready plot.mp4\n",
      "playing plot.mp4\n"
     ]
    },
    {
     "data": {
      "application/vnd.jupyter.widget-view+json": {
       "model_id": "66dc655cdc4c4cdeb7ed38d0b82efe26",
       "version_major": 2,
       "version_minor": 0
      },
      "text/plain": [
       "Video(value=b'\\x00\\x00\\x00 ftypisom\\x00\\x00\\x02\\x00isomiso2avc1mp41\\x00\\x00\\x00\\x08free...', height='350', wid…"
      ]
     },
     "execution_count": 3,
     "metadata": {},
     "output_type": "execute_result"
    }
   ],
   "source": [
    "anime = ap()\n",
    "anime.images = imgs_list\n",
    "anime.render_mp4(\"plot.mp4\")"
   ]
  },
  {
   "cell_type": "code",
   "execution_count": 20,
   "id": "607c38a5-8fe9-45da-81a1-f501accfa364",
   "metadata": {},
   "outputs": [
    {
     "name": "stdout",
     "output_type": "stream",
     "text": [
      "Moviepy - Building video plot.mp4.\n",
      "Moviepy - Writing video plot.mp4\n",
      "\n"
     ]
    },
    {
     "name": "stderr",
     "output_type": "stream",
     "text": [
      "                                                                                                                                                                      \r"
     ]
    },
    {
     "name": "stdout",
     "output_type": "stream",
     "text": [
      "Moviepy - Done !\n",
      "Moviepy - video ready plot.mp4\n",
      "playing plot.mp4\n"
     ]
    },
    {
     "data": {
      "application/vnd.jupyter.widget-view+json": {
       "model_id": "3d53c8bda2974ed08323e73fd7eb3402",
       "version_major": 2,
       "version_minor": 0
      },
      "text/plain": [
       "Video(value=b'\\x00\\x00\\x00 ftypisom\\x00\\x00\\x02\\x00isomiso2avc1mp41\\x00\\x00\\x00\\x08free...', height='350', wid…"
      ]
     },
     "execution_count": 20,
     "metadata": {},
     "output_type": "execute_result"
    },
    {
     "data": {
      "image/png": "[encoded data removed]",
      "text/plain": [
       "<Figure size 640x480 with 1 Axes>"
      ]
     },
     "metadata": {},
     "output_type": "display_data"
    }
   ],
   "source": [
    "import numpy as np\n",
    "import matplotlib.pyplot as plt\n",
    "\n",
    "# Parâmetros da simulação\n",
    "L = 20.0           # Extensão do intervalo [-L, L]\n",
    "N = 1024           # Número de pontos no espaço\n",
    "dx = 2 * L / N     # Passo espacial\n",
    "dt = 0.01         # Passo temporal\n",
    "t_max = 2.0        # Tempo total de simulação\n",
    "sigma = 0.5        # Largura do pacote de onda gaussiano\n",
    "k0 = 5.0           # Número de onda inicial (momento central)\n",
    "\n",
    "# Vetores de posição e número de onda\n",
    "x = np.linspace(-L, L, N)\n",
    "k = 2 * np.pi * np.fft.fftfreq(N, d=dx)\n",
    "\n",
    "# Definindo a barreira de potencial\n",
    "V0 = - 10.0          # Altura da barreira\n",
    "width = 4.0        # Largura da barreira\n",
    "V = np.zeros(N)\n",
    "V[(x > -width/2) & (x < width/2)] = V0  # Define a barreira no centro\n",
    "\n",
    "# Pacote de onda inicial\n",
    "x0 = -L / 2\n",
    "psi_x = np.exp(-(x - x0)**2 / (2 * sigma**2)) * np.exp(1j * k0 * x)\n",
    "psi_k = np.fft.fft(psi_x)\n",
    "\n",
    "# Operadores de evolução temporal\n",
    "U_k = np.exp(-1j * 0.5 * k**2 * dt)  # Parte cinética no espaço k\n",
    "U_x = np.exp(-1j * V * dt)           # Parte potencial no espaço x\n",
    "\n",
    "# Evolução temporal\n",
    "t = 0\n",
    "plt.figure()\n",
    "i = 0\n",
    "list_plots = []\n",
    "while t < t_max:\n",
    "    # Evolução em meio passo no espaço k\n",
    "    psi_k = U_k * psi_k\n",
    "    psi_x = np.fft.ifft(psi_k)       # Transforma para o espaço real\n",
    "    \n",
    "    # Evolução em um passo completo no espaço x\n",
    "    psi_x = U_x * psi_x\n",
    "    psi_k = np.fft.fft(psi_x)        # Transforma de volta para o espaço k\n",
    "    \n",
    "    # Evolução em meio passo no espaço k\n",
    "    psi_k = U_k * psi_k\n",
    "    psi_x = np.fft.ifft(psi_k)       # Volta ao espaço real\n",
    "\n",
    "    t += dt\n",
    "\n",
    "    # Visualização\n",
    "    plt.clf()\n",
    "    plt.plot(x, np.abs(psi_x)**2, label=f'|ψ(x)|², t = {t:.2f}')\n",
    "    plt.plot(x, V / V0, 'k--', label='Potencial (normalizado)')\n",
    "    plt.xlabel(\"x\")\n",
    "    plt.ylabel(\"|ψ(x)|²\")\n",
    "    plt.ylim(0, 1)\n",
    "    plt.legend()\n",
    "    name_fig = f\".data/plot_{i}.png\"\n",
    "    plt.savefig(name_fig)\n",
    "    list_plots.append(name_fig)\n",
    "    i+=1\n",
    "    print(f\"loading {i}...\",flush=True,end=\"\\r\")\n",
    "\n",
    "anime = ap()\n",
    "anime.images = list_plots\n",
    "anime.render_mp4(\"plot.mp4\")"
   ]
  },
  {
   "cell_type": "code",
   "execution_count": null,
   "id": "f6f403ca-4641-4582-8e67-884594922c2e",
   "metadata": {},
   "outputs": [
    {
     "name": "stdout",
     "output_type": "stream",
     "text": [
      "loading 351...\r"
     ]
    }
   ],
   "source": [
    "import numpy as np\n",
    "import matplotlib.pyplot as plt\n",
    "\n",
    "# Parâmetros da simulação\n",
    "L = 10.0           # Extensão do intervalo [-L, L]\n",
    "N = 1024           # Número de pontos no espaço\n",
    "dx = 2 * L / N     # Passo espacial\n",
    "dt = 0.01         # Passo temporal\n",
    "t_max = 3.0        # Tempo total de simulação\n",
    "sigma = 0.6        # Largura do pacote de onda gaussiano\n",
    "k0 = 5.0           # Número de onda inicial (momento central)\n",
    "\n",
    "# Vetores de posição e número de onda\n",
    "x = np.linspace(-L, L, N)\n",
    "k = 2 * np.pi * np.fft.fftfreq(N, d=dx)\n",
    "\n",
    "# Definindo o poço de potencial\n",
    "V0 = -10.0         # Profundidade do poço (potencial negativo)\n",
    "width = 1.0        # Largura do poço\n",
    "V = np.zeros(N)\n",
    "V[(x > -width/2) & (x < width/2)] = V0  # Define o poço no centro\n",
    "\n",
    "# Pacote de onda inicial\n",
    "x0 = -L / 2\n",
    "psi_x = np.exp(-(x - x0)**2 / (2 * sigma**2)) * np.exp(1j * k0 * x)\n",
    "psi_k = np.fft.fft(psi_x)\n",
    "\n",
    "# Operadores de evolução temporal\n",
    "U_k = np.exp(-1j * 0.5 * k**2 * dt)  # Parte cinética no espaço k\n",
    "U_x = np.exp(-1j * V * dt)           # Parte potencial no espaço x\n",
    "\n",
    "# Evolução temporal\n",
    "t = 0\n",
    "plt.figure(figsize=(16,9))\n",
    "plots_list = []\n",
    "i = 0\n",
    "while t < t_max:\n",
    "    # Evolução em meio passo no espaço k\n",
    "    psi_k = U_k * psi_k\n",
    "    psi_x = np.fft.ifft(psi_k)       # Transforma para o espaço real\n",
    "    \n",
    "    # Evolução em um passo completo no espaço x\n",
    "    psi_x = U_x * psi_x\n",
    "    psi_k = np.fft.fft(psi_x)        # Transforma de volta para o espaço k\n",
    "    \n",
    "    # Evolução em meio passo no espaço k\n",
    "    psi_k = U_k * psi_k\n",
    "    psi_x = np.fft.ifft(psi_k)       # Volta ao espaço real\n",
    "\n",
    "    t += dt\n",
    "\n",
    "    # Visualização\n",
    "    plt.clf()\n",
    "    plt.plot(x, np.abs(psi_x)**2,color='blue', label=f'|ψ(x)|², t = {t:.2f}')\n",
    "    #plt.plot(x, np.abs(psi_x),color='black', label=f'|ψ(x)|')\n",
    "   # plt.plot(x, np.imag(psi_x),color='orange', label=r'Im{ψ(x)}')\n",
    "   # plt.plot(x, np.real(psi_x),color='green', label=r'Re{ψ(x)}')\n",
    "    plt.plot(x, V / abs(V0), 'k--', label='Potencial (normalizado)')\n",
    "    plt.xlabel(\"x\")\n",
    "    plt.ylabel(\"|ψ(x)|²\")\n",
    "    plt.ylim(-1, 1)\n",
    "    plt.legend()\n",
    "    name_plot = f\".data/plot_{V0}_{i}.png\"\n",
    "    plt.savefig(name_plot)\n",
    "    plots_list.append(name_plot)\n",
    "    print(f\"loading {i}...\",flush=True,end=\"\\r\")\n",
    "    i+=1\n",
    "\n",
    "\n",
    "anime = ap()\n",
    "anime.images = plots_list\n",
    "anime.render_mp4('hole_finite.mp4')\n",
    "    "
   ]
  },
  {
   "cell_type": "code",
   "execution_count": null,
   "id": "92fbdbb3-90fd-402e-bae4-6bad06aad7b1",
   "metadata": {},
   "outputs": [],
   "source": [
    "import numpy as np\n",
    "import matplotlib.pyplot as plt\n",
    "\n",
    "# Parâmetros da simulação\n",
    "L = 10.0           # Extensão do intervalo [-L, L]\n",
    "N = 1024           # Número de pontos no espaço\n",
    "dx = 2 * L / N     # Passo espacial\n",
    "dt = 0.05         # Passo temporal\n",
    "t_max = 8.0        # Tempo total de simulação\n",
    "sigma = 0.5        # Largura do pacote de onda gaussiano\n",
    "k0 = 0.0           # Número de onda inicial (momento central)\n",
    "\n",
    "# Parâmetros do oscilador harmônico\n",
    "omega = 1.0        # Frequência do oscilador\n",
    "\n",
    "# Vetores de posição e número de onda\n",
    "x = np.linspace(-L, L, N)\n",
    "k = 2 * np.pi * np.fft.fftfreq(N, d=dx)\n",
    "\n",
    "# Definindo o potencial do oscilador harmônico\n",
    "V = 0.5 * omega**2 * x**2\n",
    "\n",
    "# Pacote de onda inicial\n",
    "x0 = -2.0          # Posição inicial do pacote de onda\n",
    "psi_x = np.exp(-(x - x0)**2 / (2 * sigma**2)) * np.exp(1j * k0 * x)\n",
    "psi_k = np.fft.fft(psi_x)\n",
    "\n",
    "# Operadores de evolução temporal\n",
    "U_k = np.exp(-1j * 0.5 * k**2 * dt)  # Parte cinética no espaço k\n",
    "U_x = np.exp(-1j * V * dt)           # Parte potencial no espaço x\n",
    "\n",
    "# Evolução temporal\n",
    "t = 0\n",
    "i=0\n",
    "plot_list = []\n",
    "plt.figure()\n",
    "while t < t_max:\n",
    "    # Evolução em meio passo no espaço k\n",
    "    psi_k = U_k * psi_k\n",
    "    psi_x = np.fft.ifft(psi_k)       # Transforma para o espaço real\n",
    "    \n",
    "    # Evolução em um passo completo no espaço x\n",
    "    psi_x = U_x * psi_x\n",
    "    psi_k = np.fft.fft(psi_x)        # Transforma de volta para o espaço k\n",
    "    \n",
    "    # Evolução em meio passo no espaço k\n",
    "    psi_k = U_k * psi_k\n",
    "    psi_x = np.fft.ifft(psi_k)       # Volta ao espaço real\n",
    "\n",
    "    t += dt\n",
    "\n",
    "    # Visualização\n",
    "    plt\n",
    "    plt.plot(x, np.abs(psi_x)**2,color='blue', label=f'|ψ(x)|², t = {t:.2f}')\n",
    "    plt.plot(x, np.abs(psi_x),color='black', label=f'|ψ(x)|')\n",
    "    plt.plot(x, np.imag(psi_x),color='orange', label=r'Im{ψ(x)}')\n",
    "    plt.plot(x, np.real(psi_x),color='green', label=r'Re{ψ(x)}')\n",
    "    plt.plot(x, V / V.max(), 'k--', label='Potencial (normalizado)')\n",
    "    plt.xlabel(\"x\")\n",
    "    plt.ylabel(\"|ψ(x)|²\")\n",
    "    plt.ylim(0, 1)\n",
    "    plt.legend()\n",
    "    name_fig = f\".data/plot_{i}.png\"\n",
    "    plt.savefig(name_fig)\n",
    "    plot_list.append(name_fig)\n",
    "    print(f\"building plot {i}...\",flush=True,end=\"\\r\")\n",
    "    i+=1\n",
    "    \n",
    "anime = ap()\n",
    "anime.images = plot_list\n",
    "anime.render_mp4('osci_finite.mp4')\n",
    "     "
   ]
  },
  {
   "cell_type": "code",
   "execution_count": 8,
   "id": "c5aa80ab-d6c7-43d9-bbf3-8921457dae9e",
   "metadata": {},
   "outputs": [
    {
     "data": {
      "text/plain": [
       "array([ 0.00000000e+00,  2.08166817e-17,  5.20417043e-17, ...,\n",
       "        1.11130723e-17,  1.13841228e-18, -7.23704950e-17])"
      ]
     },
     "execution_count": 8,
     "metadata": {},
     "output_type": "execute_result"
    }
   ],
   "source": [
    "np.imag(psi_x)"
   ]
  }
 ],
 "metadata": {
  "kernelspec": {
   "display_name": "Python 3 (ipykernel)",
   "language": "python",
   "name": "python3"
  },
  "language_info": {
   "codemirror_mode": {
    "name": "ipython",
    "version": 3
   },
   "file_extension": ".py",
   "mimetype": "text/x-python",
   "name": "python",
   "nbconvert_exporter": "python",
   "pygments_lexer": "ipython3",
   "version": "3.11.9"
  }
 },
 "nbformat": 4,
 "nbformat_minor": 5
}
