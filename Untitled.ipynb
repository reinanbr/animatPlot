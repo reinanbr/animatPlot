{
 "cells": [
  {
   "cell_type": "code",
   "execution_count": 1,
   "id": "da7a7507",
   "metadata": {},
   "outputs": [
    {
     "name": "stdout",
     "output_type": "stream",
     "text": [
      "Este código está sendo executado em um notebook Jupyter.\n"
     ]
    }
   ],
   "source": [
    "import os\n",
    "\n",
    "# Verifique se a variável de ambiente 'JPY_PARENT_PID' está definida\n",
    "if 'JPY_PARENT_PID' in os.environ:\n",
    "    print(\"Este código está sendo executado em um notebook Jupyter.\")\n",
    "else:\n",
    "    print(\"Este código não está sendo executado em um notebook Jupyter.\")\n"
   ]
  },
  {
   "cell_type": "code",
   "execution_count": 2,
   "id": "1020a249",
   "metadata": {},
   "outputs": [],
   "source": [
    "import matplotlib.pyplot as plt\n",
    "from scipy.constants import k\n",
    "import numpy as np\n",
    "from animateplot import AnimatePlot as ap\n",
    "plt.style.use('classic')\n",
    "plt.style.use('dark_background')"
   ]
  },
  {
   "cell_type": "code",
   "execution_count": 3,
   "id": "0d1d3941",
   "metadata": {},
   "outputs": [],
   "source": [
    "# parameter's function equation plot\n",
    "T = 200\n",
    "\n",
    "\n",
    "def bose_einstein(e):\n",
    "    return 1/(np.exp(e/(k*T))-1)\n",
    "\n",
    "def fermi_dirac(e):\n",
    "    return 1/(np.exp(e/(k*T))+1)\n",
    "\n",
    "def boltz(e):\n",
    "    return 1/np.exp(e/(k*T))\n",
    "\n",
    "\n",
    "e = np.linspace(k*.0001,4*k*T,100)\n",
    "\n",
    "b = boltz(e)\n",
    "fd = fermi_dirac(e)\n",
    "be = bose_einstein(e)\n",
    "\n",
    "e_kt = e/(k*T)\n",
    "\n"
   ]
  },
  {
   "cell_type": "code",
   "execution_count": null,
   "id": "123a2264",
   "metadata": {},
   "outputs": [],
   "source": []
  },
  {
   "cell_type": "code",
   "execution_count": 4,
   "id": "3455accf",
   "metadata": {},
   "outputs": [],
   "source": [
    "def call_plot(it,plt):\n",
    "    i=it\n",
    "    plt.plot(e[:i],b[:i],c='red',label=r'$\\frac{1}{e^{E/kT}}$')\n",
    "    plt.annotate('Boltzmann',\n",
    "                 xy=(.54*k*T,.6),xytext=(1.5*k*T,.65),\n",
    "                 size=10,fontweight='bold',\n",
    "                 arrowprops = dict(facecolor ='red',\n",
    "                                   lw=1.2,\n",
    "                                      shrink = 0.001))\n",
    "\n",
    "    plt.plot(e[:i],fd[:i],c='yellow',label=r'$\\frac{1}{e^{E/kT}+1}$')\n",
    "    plt.annotate('Fermi-Dirac',\n",
    "                 xy=(.3*k*T,.426),xytext=(.4*k*T,.16),\n",
    "                 size=10,fontweight='bold',\n",
    "                 arrowprops = dict(facecolor ='yellow',\n",
    "                                   lw=1.2,\n",
    "                                      shrink = 0.001))\n",
    "\n",
    "    plt.plot(e[:i],be[:i],c='blue',label=r'$\\frac{1}{e^{E/kT}-1}$')\n",
    "    plt.annotate('Bose-Einstein',\n",
    "                 xy=(.7*k*T,.99),xytext=(1.5*k*T,.85),\n",
    "                 size=10,fontweight='bold',\n",
    "                 arrowprops = dict(facecolor ='blue',\n",
    "                                   lw=1.2,\n",
    "                                      shrink = 0.001))\n",
    "\n",
    "    plt.xlabel(r'$E$')\n",
    "    plt.ylabel(r'$f(E)$')\n",
    "    plt.xticks(e[::100],[f'{int(i)}kT' for i in e_kt[::100]])\n",
    "    #plt.yticks\n",
    "\n",
    "    plt.ylim(0,1.05)\n",
    "    plt.xlim(0,4*k*T)\n",
    "    plt.text(0.05, 0.01,'By @science_put/@reinanbr_', fontsize=8, fontweight='bold', transform=plt.gcf().transFigure)\n",
    "    plt.title('Funções Estatísticas Importantes \\n de Mecânica Estatística Clássica e Quântica',fontweight='bold')\n",
    "\n",
    "    plt.grid('--',linewidth=.5)\n",
    "    plt.legend(prop={'size':14})\n",
    "    \n",
    "    \n",
    "    return plt"
   ]
  },
  {
   "cell_type": "code",
   "execution_count": 5,
   "id": "bca4c787",
   "metadata": {},
   "outputs": [
    {
     "name": "stdout",
     "output_type": "stream",
     "text": [
      "ended saved cache images!   1.38 f/s  |  151.2s | 1.4s | 152.6s ]]\n",
      "[100 images saved in 151.2s | speed: 0.7/img/s | ping: 1512.0ms]\n",
      "Moviepy - Building video estat.mp4.\n",
      "Moviepy - Writing video estat.mp4\n",
      "\n"
     ]
    },
    {
     "name": "stderr",
     "output_type": "stream",
     "text": [
      "                                                                                                                                                                                                                                         \r"
     ]
    },
    {
     "name": "stdout",
     "output_type": "stream",
     "text": [
      "Moviepy - Done !\n",
      "Moviepy - video ready estat.mp4\n",
      "playing estat.mp4\n"
     ]
    },
    {
     "data": {
      "text/plain": [
       "<Figure size 640x480 with 0 Axes>"
      ]
     },
     "metadata": {},
     "output_type": "display_data"
    }
   ],
   "source": [
    "animate = ap(e,callplot=call_plot)\n",
    "\n",
    "animate.render_cache()\n",
    "animate.render_mp4('estat.mp4')"
   ]
  },
  {
   "cell_type": "code",
   "execution_count": null,
   "id": "812ac22f",
   "metadata": {},
   "outputs": [],
   "source": [
    "animate = ap(e,callplot=call_plot)\n",
    "animate.play_jb_mp4('estat.mp4')"
   ]
  },
  {
   "cell_type": "code",
   "execution_count": 1,
   "id": "9351a29c",
   "metadata": {},
   "outputs": [
    {
     "data": {
      "application/vnd.jupyter.widget-view+json": {
       "model_id": "d06ad5827a6e46a48b5ff534666a50f2",
       "version_major": 2,
       "version_minor": 0
      },
      "text/plain": [
       "Video(value=b'\\x00\\x00\\x00 ftypisom\\x00\\x00\\x02\\x00isomiso2avc1mp41\\x00\\x00\\x00\\x08free\\x00\\x00\\xbd2mdat\\x00\\x…"
      ]
     },
     "metadata": {},
     "output_type": "display_data"
    }
   ],
   "source": [
    "from ipywidgets import Video\n",
    "Video.from_file(\"estat.mp4\", width=600, height=350)"
   ]
  },
  {
   "cell_type": "code",
   "execution_count": null,
   "id": "e62fd557",
   "metadata": {},
   "outputs": [],
   "source": []
  },
  {
   "cell_type": "code",
   "execution_count": null,
   "id": "d0ecc77d",
   "metadata": {},
   "outputs": [],
   "source": []
  }
 ],
 "metadata": {
  "kernelspec": {
   "display_name": "Python 3 (ipykernel)",
   "language": "python",
   "name": "python3"
  },
  "language_info": {
   "codemirror_mode": {
    "name": "ipython",
    "version": 3
   },
   "file_extension": ".py",
   "mimetype": "text/x-python",
   "name": "python",
   "nbconvert_exporter": "python",
   "pygments_lexer": "ipython3",
   "version": "3.9.13"
  }
 },
 "nbformat": 4,
 "nbformat_minor": 5
}
